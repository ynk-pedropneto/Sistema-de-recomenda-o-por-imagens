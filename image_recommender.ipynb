{
 "cells": [
  {
   "cell_type": "markdown",
   "id": "9d2325ab",
   "metadata": {},
   "source": [
    "# 🔎 Image Similarity Recommender\n",
    "Este notebook demonstra como indexar imagens e consultar as mais similares."
   ]
  },
  {
   "cell_type": "code",
   "execution_count": null,
   "id": "04fb629b",
   "metadata": {},
   "outputs": [],
   "source": [
    "# Instalar dependências (descomente se necessário)\n",
    "# !pip install -r ../requirements.txt\n"
   ]
  },
  {
   "cell_type": "code",
   "execution_count": null,
   "id": "4a578e7d",
   "metadata": {},
   "outputs": [],
   "source": [
    "import os, sys\n",
    "sys.path.append(os.path.abspath('../'))\n",
    "sys.path.append(os.path.abspath('../src'))\n",
    "from src.recommender import ImageRecommender\n",
    "\n",
    "dataset = os.path.abspath('../data')\n",
    "recommender = ImageRecommender(dataset_path=dataset)\n",
    "recommender.build_index()\n",
    "print(f'Imagens indexadas: {len(recommender.img_paths)}')\n"
   ]
  },
  {
   "cell_type": "code",
   "execution_count": null,
   "id": "fc0c322a",
   "metadata": {},
   "outputs": [],
   "source": [
    "# Consulta de exemplo\n",
    "query_img = os.path.abspath('../data/query.jpg')\n",
    "results = recommender.recommend(query_img, top_k=3)\n",
    "results"
   ]
  },
  {
   "cell_type": "code",
   "execution_count": null,
   "id": "3ec0cca9",
   "metadata": {},
   "outputs": [],
   "source": [
    "# Visualização\n",
    "import matplotlib.pyplot as plt\n",
    "from PIL import Image\n",
    "\n",
    "fig = plt.figure(figsize=(10, 3))\n",
    "plt.axis('off')\n",
    "plt.title('Top-3 similares')\n",
    "\n",
    "# mostra a query + 3 resultados\n",
    "imgs = [query_img] + [p for p, _ in results]\n",
    "titles = ['QUERY'] + [f'score={s:.3f}' for _, s in results]\n",
    "\n",
    "for i, (p, t) in enumerate(zip(imgs, titles), start=1):\n",
    "    ax = fig.add_subplot(1, 4, i)\n",
    "    ax.imshow(Image.open(p))\n",
    "    ax.set_title(t, fontsize=9)\n",
    "    ax.axis('off')\n",
    "\n",
    "plt.show()"
   ]
  }
 ],
 "metadata": {},
 "nbformat": 4,
 "nbformat_minor": 5
}
